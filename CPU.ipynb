{
  "nbformat": 4,
  "nbformat_minor": 0,
  "metadata": {
    "colab": {
      "name": "CPU.ipynb",
      "provenance": [],
      "machine_shape": "hm"
    },
    "kernelspec": {
      "name": "python3",
      "display_name": "Python 3"
    },
    "language_info": {
      "name": "python"
    }
  },
  "cells": [
    {
      "cell_type": "code",
      "metadata": {
        "cellView": "form",
        "id": "vww_qhvGv_oU"
      },
      "source": [
        "#@title **SSH** ( pw : IjinDuluBosKaloMauPake )\n",
        "\n",
        "! pip install colab_ssh --upgrade &> /dev/null\n",
        "from colab_ssh import launch_ssh, init_git\n",
        "from IPython.display import clear_output\n",
        "\n",
        "! var startClickConnect = function startClickConnect(){ var clickConnect = function clickConnect(){ console.log(\"Connnect Clicked - Start\"); document.querySelector(\"#top-toolbar > colab-connect-button\").shadowRoot.querySelector(\"#connect\").click(); console.log(\"Connnect Clicked - End\"); }; var intervalId = setInterval(clickConnect, 30000); var stopClickConnectHandler = function stopClickConnect() { console.log(\"Connnect Clicked Stopped - Start\"); clearInterval(intervalId); console.log(\"Connnect Clicked Stopped - End\"); }; return stopClickConnectHandler; }; var stopClickConnect = startClickConnect();\n",
        "\n",
        "ngrokToken = \"1qgcSeeVFVCCzcLjI1X6L2Dc7E3_4opi7BuHkfru36cDQJyg1\" #@param {type:'string'}\n",
        "\n",
        "def runNGROK():\n",
        "    launch_ssh(ngrokToken, password)\n",
        "    clear_output()\n",
        "\n",
        "    print(\"ssh\", username, end='@')\n",
        "    ! curl -s http://localhost:4040/api/tunnels | python3 -c \\\n",
        "            \"import sys, json; print(json.load(sys.stdin)['tunnels'][0]['public_url'][6:].replace(':', ' -p '))\"\n",
        "\n",
        "try:\n",
        "    if username:\n",
        "        pass\n",
        "    elif password:\n",
        "        pass\n",
        "except NameError:\n",
        "    print(\"No user found using username and password as 'root'\")\n",
        "    username='root'\n",
        "    password='a'\n",
        "\n",
        "if ngrokToken == \"\":\n",
        "    print(\"No ngrokToken Found, Please enter it\")\n",
        "else:\n",
        "    runNGROK()"
      ],
      "execution_count": null,
      "outputs": []
    }
  ]
}