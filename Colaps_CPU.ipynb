{
  "nbformat": 4,
  "nbformat_minor": 0,
  "metadata": {
    "colab": {
      "name": "Colaps CPU.ipynb",
      "provenance": [],
      "collapsed_sections": [],
      "machine_shape": "hm"
    },
    "kernelspec": {
      "name": "python3",
      "display_name": "Python 3"
    }
  },
  "cells": [
    {
      "cell_type": "code",
      "metadata": {
        "id": "q8MhOuYa6kjK",
        "cellView": "form"
      },
      "source": [
        "#@title **SSH** ( pw : a )\n",
        "\n",
        "! pip install colab_ssh --upgrade &> /dev/null\n",
        "from colab_ssh import launch_ssh, init_git\n",
        "from IPython.display import clear_output\n",
        "\n",
        "! var startClickConnect = function startClickConnect(){ var clickConnect = function clickConnect(){ console.log(\"Connnect Clicked - Start\"); document.querySelector(\"#top-toolbar > colab-connect-button\").shadowRoot.querySelector(\"#connect\").click(); console.log(\"Connnect Clicked - End\"); }; var intervalId = setInterval(clickConnect, 30000); var stopClickConnectHandler = function stopClickConnect() { console.log(\"Connnect Clicked Stopped - Start\"); clearInterval(intervalId); console.log(\"Connnect Clicked Stopped - End\"); }; return stopClickConnectHandler; }; var stopClickConnect = startClickConnect();\n",
        "\n",
        "ngrokToken = \"\" #@param {type:'string'}\n",
        "\n",
        "def runNGROK():\n",
        "    launch_ssh(ngrokToken, password)\n",
        "    clear_output()\n",
        "\n",
        "    print(\"ssh\", username, end='@')\n",
        "    ! curl -s http://localhost:4040/api/tunnels | python3 -c \\\n",
        "            \"import sys, json; print(json.load(sys.stdin)['tunnels'][0]['public_url'][6:].replace(':', ' -p '))\"\n",
        "\n",
        "try:\n",
        "    if username:\n",
        "        pass\n",
        "    elif password:\n",
        "        pass\n",
        "except NameError:\n",
        "    print(\"No user found using username and password as 'root'\")\n",
        "    username='root'\n",
        "    password='a'\n",
        "\n",
        "if ngrokToken == \"\":\n",
        "    print(\"No ngrokToken Found, Please enter it\")\n",
        "else:\n",
        "    runNGROK()"
      ],
      "execution_count": null,
      "outputs": []
    }
  ]
}