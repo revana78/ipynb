{
  "nbformat": 4,
  "nbformat_minor": 0,
  "metadata": {
    "colab": {
      "name": "ColapsGPUConect.ipynb",
      "provenance": [],
      "collapsed_sections": []
    },
    "kernelspec": {
      "name": "python3",
      "display_name": "Python 3"
    },
    "accelerator": "GPU"
  },
  "cells": [
    {
      "cell_type": "code",
      "metadata": {
        "cellView": "form",
        "id": "Sj2iTgKSmMGL"
      },
      "source": [
        "#@title FIRST .....\n",
        "\n",
        "import IPython\n",
        "from google.colab import output\n",
        "\n",
        "display(IPython.display.Javascript('''\n",
        "function ClickConnect(){\n",
        "  btn = document.querySelector(\"colab-connect-button\")\n",
        "  if (btn != null){\n",
        "    console.log(\"Click colab-connect-button\"); \n",
        "    btn.click() \n",
        "    }\n",
        "    \n",
        "  btn = document.getElementById('ok')\n",
        "  if (btn != null){\n",
        "    console.log(\"Click reconnect\"); \n",
        "    btn.click() \n",
        "    }\n",
        "  }\n",
        "    \n",
        "setInterval(ClickConnect,20000)\n",
        "'''))\n"
      ],
      "execution_count": null,
      "outputs": []
    },
    {
      "cell_type": "code",
      "metadata": {
        "id": "tAb77yZ9fzMG",
        "colab": {
          "base_uri": "https://localhost:8080/",
          "height": 405
        },
        "cellView": "form",
        "outputId": "600ee846-c3d5-416a-f6ce-3f05e7ed5aa9"
      },
      "source": [
        "#@title V100 - P100 Hunter .....\n",
        "from IPython.display import HTML\n",
        "from subprocess import getoutput\n",
        "s = getoutput('nvidia-smi')\n",
        "if 'K80' in s:\n",
        "  gpu = 'K80 - Kasian Deh Lho :)'\n",
        "elif 'T4' in s:\n",
        "  gpu = 'T4 - Lumayan...'\n",
        "elif 'P4' in s:\n",
        "  gpu = 'P4 - Boleh lha...'\n",
        "elif 'P100' in s:\n",
        "  gpu = 'P100 - Nice Gaskeun...'\n",
        "elif 'V100' in s:\n",
        "  gpu = 'V100 - Mantapuuuu...'\n",
        "display(HTML(f\"<h2>{gpu}</h2>\"))\n",
        "print(s)\n",
        "# or simply\n",
        "!nvidia-smi -L"
      ],
      "execution_count": null,
      "outputs": [
        {
          "output_type": "display_data",
          "data": {
            "text/html": [
              "<h2>V100 - Mantapuuuu...</h2>"
            ],
            "text/plain": [
              "<IPython.core.display.HTML object>"
            ]
          },
          "metadata": {
            "tags": []
          }
        },
        {
          "output_type": "stream",
          "text": [
            "Sat May  1 18:57:31 2021       \n",
            "+-----------------------------------------------------------------------------+\n",
            "| NVIDIA-SMI 465.19.01    Driver Version: 460.32.03    CUDA Version: 11.2     |\n",
            "|-------------------------------+----------------------+----------------------+\n",
            "| GPU  Name        Persistence-M| Bus-Id        Disp.A | Volatile Uncorr. ECC |\n",
            "| Fan  Temp  Perf  Pwr:Usage/Cap|         Memory-Usage | GPU-Util  Compute M. |\n",
            "|                               |                      |               MIG M. |\n",
            "|===============================+======================+======================|\n",
            "|   0  Tesla V100-SXM2...  Off  | 00000000:00:04.0 Off |                    0 |\n",
            "| N/A   44C    P0    26W / 300W |      0MiB / 16160MiB |      0%      Default |\n",
            "|                               |                      |                  N/A |\n",
            "+-------------------------------+----------------------+----------------------+\n",
            "                                                                               \n",
            "+-----------------------------------------------------------------------------+\n",
            "| Processes:                                                                  |\n",
            "|  GPU   GI   CI        PID   Type   Process name                  GPU Memory |\n",
            "|        ID   ID                                                   Usage      |\n",
            "|=============================================================================|\n",
            "|  No running processes found                                                 |\n",
            "+-----------------------------------------------------------------------------+\n",
            "GPU 0: Tesla V100-SXM2-16GB (UUID: GPU-7ace42f5-85d0-c94d-5b17-2fa421bc6a01)\n"
          ],
          "name": "stdout"
        }
      ]
    },
    {
      "cell_type": "code",
      "metadata": {
        "id": "q8MhOuYa6kjK",
        "cellView": "form"
      },
      "source": [
        "#@title **SSH** ( pw : IjinDuluBosKaloMauPake )\n",
        "\n",
        "! pip install colab_ssh --upgrade &> /dev/null\n",
        "from colab_ssh import launch_ssh, init_git\n",
        "from IPython.display import clear_output\n",
        "\n",
        "! var startClickConnect = function startClickConnect(){ var clickConnect = function clickConnect(){ console.log(\"Connnect Clicked - Start\"); document.querySelector(\"#top-toolbar > colab-connect-button\").shadowRoot.querySelector(\"#connect\").click(); console.log(\"Connnect Clicked - End\"); }; var intervalId = setInterval(clickConnect, 30000); var stopClickConnectHandler = function stopClickConnect() { console.log(\"Connnect Clicked Stopped - Start\"); clearInterval(intervalId); console.log(\"Connnect Clicked Stopped - End\"); }; return stopClickConnectHandler; }; var stopClickConnect = startClickConnect();\n",
        "\n",
        "ngrokToken = \"\" #@param {type:'string'}\n",
        "\n",
        "def runNGROK():\n",
        "    launch_ssh(ngrokToken, password)\n",
        "    clear_output()\n",
        "\n",
        "    print(\"ssh\", username, end='@')\n",
        "    ! curl -s http://localhost:4040/api/tunnels | python3 -c \\\n",
        "            \"import sys, json; print(json.load(sys.stdin)['tunnels'][0]['public_url'][6:].replace(':', ' -p '))\"\n",
        "\n",
        "try:\n",
        "    if username:\n",
        "        pass\n",
        "    elif password:\n",
        "        pass\n",
        "except NameError:\n",
        "    print(\"No user found using username and password as 'root'\")\n",
        "    username='root'\n",
        "    password='a'\n",
        "\n",
        "if ngrokToken == \"\":\n",
        "    print(\"No ngrokToken Found, Please enter it\")\n",
        "else:\n",
        "    runNGROK()"
      ],
      "execution_count": null,
      "outputs": []
    },
    {
      "cell_type": "code",
      "metadata": {
        "id": "MhX9WIsPSyi4",
        "cellView": "form"
      },
      "source": [
        "#@title Opsional\n",
        "\n",
        "while True:pass"
      ],
      "execution_count": null,
      "outputs": []
    }
  ]
}